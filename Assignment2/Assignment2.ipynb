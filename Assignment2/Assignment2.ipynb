{
 "cells": [
  {
   "cell_type": "markdown",
   "id": "f9b5658f",
   "metadata": {},
   "source": [
    "# Hotels in Amsterdam\n",
    "\n",
    "This Jupyter Notebook shows the analysis of "
   ]
  },
  {
   "cell_type": "code",
   "execution_count": 3,
   "id": "703068c3",
   "metadata": {},
   "outputs": [],
   "source": [
    "#importing libraries\n",
    "import pandas as pd\n",
    "import statsmodels.formula.api as smf\n",
    "from stargazer.stargazer import Stargazer\n",
    "import statsmodels.api as sm\n",
    "import numpy as np\n",
    "import matplotlib.pyplot as plt\n",
    "import matplotlib\n",
    "from statsmodels.nonparametric.smoothers_lowess import lowess\n",
    "from sklearn.metrics import mean_squared_error\n",
    "from sklearn.metrics import r2_score\n",
    "from sklearn.metrics import log_loss\n",
    "import seaborn as sns\n",
    "from plotnine import ggplot"
   ]
  },
  {
   "cell_type": "markdown",
   "id": "45717de8",
   "metadata": {},
   "source": [
    "## Data Work"
   ]
  },
  {
   "cell_type": "code",
   "execution_count": 5,
   "id": "c399587b",
   "metadata": {},
   "outputs": [],
   "source": [
    "#reading csv files\n",
    "hotel_features = pd.read_csv('hotels-europe_features.csv')\n",
    "hotel_prices = pd.read_csv('hotels-europe_price.csv')"
   ]
  },
  {
   "cell_type": "code",
   "execution_count": 6,
   "id": "372781ee",
   "metadata": {},
   "outputs": [],
   "source": [
    "#df1 where city is Amsterdam\n",
    "df1 = pd.DataFrame(hotel_features)\n",
    "df1 = df1.loc[df1['city'] == 'Amsterdam']"
   ]
  },
  {
   "cell_type": "code",
   "execution_count": 7,
   "id": "32cc6102",
   "metadata": {},
   "outputs": [
    {
     "data": {
      "text/html": [
       "<div>\n",
       "<style scoped>\n",
       "    .dataframe tbody tr th:only-of-type {\n",
       "        vertical-align: middle;\n",
       "    }\n",
       "\n",
       "    .dataframe tbody tr th {\n",
       "        vertical-align: top;\n",
       "    }\n",
       "\n",
       "    .dataframe thead th {\n",
       "        text-align: right;\n",
       "    }\n",
       "</style>\n",
       "<table border=\"1\" class=\"dataframe\">\n",
       "  <thead>\n",
       "    <tr style=\"text-align: right;\">\n",
       "      <th></th>\n",
       "      <th>hotel_id</th>\n",
       "      <th>price</th>\n",
       "      <th>offer</th>\n",
       "      <th>offer_cat</th>\n",
       "      <th>year</th>\n",
       "      <th>month</th>\n",
       "      <th>weekend</th>\n",
       "      <th>holiday</th>\n",
       "      <th>nnights</th>\n",
       "      <th>scarce_room</th>\n",
       "    </tr>\n",
       "  </thead>\n",
       "  <tbody>\n",
       "    <tr>\n",
       "      <th>0</th>\n",
       "      <td>1</td>\n",
       "      <td>172</td>\n",
       "      <td>0</td>\n",
       "      <td>0% no offer</td>\n",
       "      <td>2017</td>\n",
       "      <td>11</td>\n",
       "      <td>1</td>\n",
       "      <td>0</td>\n",
       "      <td>1</td>\n",
       "      <td>0</td>\n",
       "    </tr>\n",
       "    <tr>\n",
       "      <th>1</th>\n",
       "      <td>1</td>\n",
       "      <td>122</td>\n",
       "      <td>1</td>\n",
       "      <td>15-50% offer</td>\n",
       "      <td>2018</td>\n",
       "      <td>1</td>\n",
       "      <td>1</td>\n",
       "      <td>0</td>\n",
       "      <td>1</td>\n",
       "      <td>0</td>\n",
       "    </tr>\n",
       "    <tr>\n",
       "      <th>2</th>\n",
       "      <td>1</td>\n",
       "      <td>122</td>\n",
       "      <td>1</td>\n",
       "      <td>15-50% offer</td>\n",
       "      <td>2017</td>\n",
       "      <td>12</td>\n",
       "      <td>0</td>\n",
       "      <td>1</td>\n",
       "      <td>1</td>\n",
       "      <td>0</td>\n",
       "    </tr>\n",
       "    <tr>\n",
       "      <th>3</th>\n",
       "      <td>1</td>\n",
       "      <td>552</td>\n",
       "      <td>1</td>\n",
       "      <td>1-15% offer</td>\n",
       "      <td>2017</td>\n",
       "      <td>12</td>\n",
       "      <td>0</td>\n",
       "      <td>1</td>\n",
       "      <td>4</td>\n",
       "      <td>0</td>\n",
       "    </tr>\n",
       "    <tr>\n",
       "      <th>4</th>\n",
       "      <td>1</td>\n",
       "      <td>122</td>\n",
       "      <td>1</td>\n",
       "      <td>15-50% offer</td>\n",
       "      <td>2018</td>\n",
       "      <td>2</td>\n",
       "      <td>1</td>\n",
       "      <td>0</td>\n",
       "      <td>1</td>\n",
       "      <td>0</td>\n",
       "    </tr>\n",
       "  </tbody>\n",
       "</table>\n",
       "</div>"
      ],
      "text/plain": [
       "   hotel_id  price  offer     offer_cat  year  month  weekend  holiday  \\\n",
       "0         1    172      0   0% no offer  2017     11        1        0   \n",
       "1         1    122      1  15-50% offer  2018      1        1        0   \n",
       "2         1    122      1  15-50% offer  2017     12        0        1   \n",
       "3         1    552      1   1-15% offer  2017     12        0        1   \n",
       "4         1    122      1  15-50% offer  2018      2        1        0   \n",
       "\n",
       "   nnights  scarce_room  \n",
       "0        1            0  \n",
       "1        1            0  \n",
       "2        1            0  \n",
       "3        4            0  \n",
       "4        1            0  "
      ]
     },
     "execution_count": 7,
     "metadata": {},
     "output_type": "execute_result"
    }
   ],
   "source": [
    "#seeing df2\n",
    "df2 = pd.DataFrame(hotel_prices)\n",
    "df2.head()"
   ]
  },
  {
   "cell_type": "code",
   "execution_count": 8,
   "id": "71ff3f49",
   "metadata": {},
   "outputs": [
    {
     "data": {
      "text/html": [
       "<div>\n",
       "<style scoped>\n",
       "    .dataframe tbody tr th:only-of-type {\n",
       "        vertical-align: middle;\n",
       "    }\n",
       "\n",
       "    .dataframe tbody tr th {\n",
       "        vertical-align: top;\n",
       "    }\n",
       "\n",
       "    .dataframe thead th {\n",
       "        text-align: right;\n",
       "    }\n",
       "</style>\n",
       "<table border=\"1\" class=\"dataframe\">\n",
       "  <thead>\n",
       "    <tr style=\"text-align: right;\">\n",
       "      <th></th>\n",
       "      <th>hotel_id</th>\n",
       "      <th>city</th>\n",
       "      <th>distance</th>\n",
       "      <th>stars</th>\n",
       "      <th>rating</th>\n",
       "      <th>country</th>\n",
       "      <th>city_actual</th>\n",
       "      <th>rating_reviewcount</th>\n",
       "      <th>center1label</th>\n",
       "      <th>center2label</th>\n",
       "      <th>...</th>\n",
       "      <th>accommodation_type</th>\n",
       "      <th>price</th>\n",
       "      <th>offer</th>\n",
       "      <th>offer_cat</th>\n",
       "      <th>year</th>\n",
       "      <th>month</th>\n",
       "      <th>weekend</th>\n",
       "      <th>holiday</th>\n",
       "      <th>nnights</th>\n",
       "      <th>scarce_room</th>\n",
       "    </tr>\n",
       "  </thead>\n",
       "  <tbody>\n",
       "    <tr>\n",
       "      <th>0</th>\n",
       "      <td>1</td>\n",
       "      <td>Amsterdam</td>\n",
       "      <td>3.1</td>\n",
       "      <td>4.0</td>\n",
       "      <td>4.3</td>\n",
       "      <td>Netherlands</td>\n",
       "      <td>Amsterdam</td>\n",
       "      <td>1030.0</td>\n",
       "      <td>City centre</td>\n",
       "      <td>Montelbaanstoren</td>\n",
       "      <td>...</td>\n",
       "      <td>Hotel</td>\n",
       "      <td>172</td>\n",
       "      <td>0</td>\n",
       "      <td>0% no offer</td>\n",
       "      <td>2017</td>\n",
       "      <td>11</td>\n",
       "      <td>1</td>\n",
       "      <td>0</td>\n",
       "      <td>1</td>\n",
       "      <td>0</td>\n",
       "    </tr>\n",
       "    <tr>\n",
       "      <th>1</th>\n",
       "      <td>1</td>\n",
       "      <td>Amsterdam</td>\n",
       "      <td>3.1</td>\n",
       "      <td>4.0</td>\n",
       "      <td>4.3</td>\n",
       "      <td>Netherlands</td>\n",
       "      <td>Amsterdam</td>\n",
       "      <td>1030.0</td>\n",
       "      <td>City centre</td>\n",
       "      <td>Montelbaanstoren</td>\n",
       "      <td>...</td>\n",
       "      <td>Hotel</td>\n",
       "      <td>122</td>\n",
       "      <td>1</td>\n",
       "      <td>15-50% offer</td>\n",
       "      <td>2018</td>\n",
       "      <td>1</td>\n",
       "      <td>1</td>\n",
       "      <td>0</td>\n",
       "      <td>1</td>\n",
       "      <td>0</td>\n",
       "    </tr>\n",
       "    <tr>\n",
       "      <th>2</th>\n",
       "      <td>1</td>\n",
       "      <td>Amsterdam</td>\n",
       "      <td>3.1</td>\n",
       "      <td>4.0</td>\n",
       "      <td>4.3</td>\n",
       "      <td>Netherlands</td>\n",
       "      <td>Amsterdam</td>\n",
       "      <td>1030.0</td>\n",
       "      <td>City centre</td>\n",
       "      <td>Montelbaanstoren</td>\n",
       "      <td>...</td>\n",
       "      <td>Hotel</td>\n",
       "      <td>122</td>\n",
       "      <td>1</td>\n",
       "      <td>15-50% offer</td>\n",
       "      <td>2017</td>\n",
       "      <td>12</td>\n",
       "      <td>0</td>\n",
       "      <td>1</td>\n",
       "      <td>1</td>\n",
       "      <td>0</td>\n",
       "    </tr>\n",
       "    <tr>\n",
       "      <th>3</th>\n",
       "      <td>1</td>\n",
       "      <td>Amsterdam</td>\n",
       "      <td>3.1</td>\n",
       "      <td>4.0</td>\n",
       "      <td>4.3</td>\n",
       "      <td>Netherlands</td>\n",
       "      <td>Amsterdam</td>\n",
       "      <td>1030.0</td>\n",
       "      <td>City centre</td>\n",
       "      <td>Montelbaanstoren</td>\n",
       "      <td>...</td>\n",
       "      <td>Hotel</td>\n",
       "      <td>552</td>\n",
       "      <td>1</td>\n",
       "      <td>1-15% offer</td>\n",
       "      <td>2017</td>\n",
       "      <td>12</td>\n",
       "      <td>0</td>\n",
       "      <td>1</td>\n",
       "      <td>4</td>\n",
       "      <td>0</td>\n",
       "    </tr>\n",
       "    <tr>\n",
       "      <th>4</th>\n",
       "      <td>1</td>\n",
       "      <td>Amsterdam</td>\n",
       "      <td>3.1</td>\n",
       "      <td>4.0</td>\n",
       "      <td>4.3</td>\n",
       "      <td>Netherlands</td>\n",
       "      <td>Amsterdam</td>\n",
       "      <td>1030.0</td>\n",
       "      <td>City centre</td>\n",
       "      <td>Montelbaanstoren</td>\n",
       "      <td>...</td>\n",
       "      <td>Hotel</td>\n",
       "      <td>122</td>\n",
       "      <td>1</td>\n",
       "      <td>15-50% offer</td>\n",
       "      <td>2018</td>\n",
       "      <td>2</td>\n",
       "      <td>1</td>\n",
       "      <td>0</td>\n",
       "      <td>1</td>\n",
       "      <td>0</td>\n",
       "    </tr>\n",
       "  </tbody>\n",
       "</table>\n",
       "<p>5 rows × 24 columns</p>\n",
       "</div>"
      ],
      "text/plain": [
       "   hotel_id       city  distance  stars  rating      country city_actual  \\\n",
       "0         1  Amsterdam       3.1    4.0     4.3  Netherlands   Amsterdam   \n",
       "1         1  Amsterdam       3.1    4.0     4.3  Netherlands   Amsterdam   \n",
       "2         1  Amsterdam       3.1    4.0     4.3  Netherlands   Amsterdam   \n",
       "3         1  Amsterdam       3.1    4.0     4.3  Netherlands   Amsterdam   \n",
       "4         1  Amsterdam       3.1    4.0     4.3  Netherlands   Amsterdam   \n",
       "\n",
       "   rating_reviewcount center1label      center2label  ... accommodation_type  \\\n",
       "0              1030.0  City centre  Montelbaanstoren  ...              Hotel   \n",
       "1              1030.0  City centre  Montelbaanstoren  ...              Hotel   \n",
       "2              1030.0  City centre  Montelbaanstoren  ...              Hotel   \n",
       "3              1030.0  City centre  Montelbaanstoren  ...              Hotel   \n",
       "4              1030.0  City centre  Montelbaanstoren  ...              Hotel   \n",
       "\n",
       "   price  offer     offer_cat  year  month  weekend holiday  nnights  \\\n",
       "0    172      0   0% no offer  2017     11        1       0        1   \n",
       "1    122      1  15-50% offer  2018      1        1       0        1   \n",
       "2    122      1  15-50% offer  2017     12        0       1        1   \n",
       "3    552      1   1-15% offer  2017     12        0       1        4   \n",
       "4    122      1  15-50% offer  2018      2        1       0        1   \n",
       "\n",
       "   scarce_room  \n",
       "0            0  \n",
       "1            0  \n",
       "2            0  \n",
       "3            0  \n",
       "4            0  \n",
       "\n",
       "[5 rows x 24 columns]"
      ]
     },
     "execution_count": 8,
     "metadata": {},
     "output_type": "execute_result"
    }
   ],
   "source": [
    "#merging 2 dfs \n",
    "df = pd.merge(df1, df2, on = 'hotel_id')\n",
    "df.head()"
   ]
  },
  {
   "cell_type": "code",
   "execution_count": 9,
   "id": "7d64d0db",
   "metadata": {},
   "outputs": [
    {
     "data": {
      "text/plain": [
       "Index(['hotel_id', 'city', 'distance', 'stars', 'rating', 'country',\n",
       "       'city_actual', 'rating_reviewcount', 'center1label', 'center2label',\n",
       "       'neighbourhood', 'ratingta', 'ratingta_count', 'distance_alter',\n",
       "       'accommodation_type', 'price', 'offer', 'offer_cat', 'year', 'month',\n",
       "       'weekend', 'holiday', 'nnights', 'scarce_room'],\n",
       "      dtype='object')"
      ]
     },
     "execution_count": 9,
     "metadata": {},
     "output_type": "execute_result"
    }
   ],
   "source": [
    "#use hotel user ratings to create a binary variable: highly_rated=1 if rating ≥ 4, 0 otherwise 0 .\n",
    "#Examine how high rating is related to the other hotel features in the data. Make sure to\n",
    "#document and argue for the data cleaning/filtering decisions you make.\n",
    "df.columns"
   ]
  },
  {
   "cell_type": "code",
   "execution_count": 10,
   "id": "a9b0ac45",
   "metadata": {},
   "outputs": [],
   "source": [
    "#creating dummy variable\n",
    "df['highly_rated'] = (df['rating'] >= 4).astype(int)\n",
    "df = df.dropna(subset=['rating'])"
   ]
  },
  {
   "cell_type": "code",
   "execution_count": 11,
   "id": "4c6a74c1",
   "metadata": {},
   "outputs": [
    {
     "data": {
      "text/plain": [
       "0       1\n",
       "1       1\n",
       "2       1\n",
       "3       1\n",
       "4       1\n",
       "       ..\n",
       "2053    0\n",
       "2054    0\n",
       "2055    0\n",
       "2056    0\n",
       "2057    0\n",
       "Name: highly_rated, Length: 2045, dtype: int64"
      ]
     },
     "execution_count": 11,
     "metadata": {},
     "output_type": "execute_result"
    }
   ],
   "source": [
    "df.highly_rated"
   ]
  },
  {
   "cell_type": "code",
   "execution_count": 12,
   "id": "b046930b",
   "metadata": {},
   "outputs": [],
   "source": [
    "#dropping na values for distance and stars\n",
    "df = df.dropna(subset=['distance'])\n",
    "df = df.dropna(subset=['stars'])"
   ]
  },
  {
   "cell_type": "code",
   "execution_count": 13,
   "id": "c128cb2f",
   "metadata": {},
   "outputs": [
    {
     "data": {
      "text/html": [
       "<div>\n",
       "<style scoped>\n",
       "    .dataframe tbody tr th:only-of-type {\n",
       "        vertical-align: middle;\n",
       "    }\n",
       "\n",
       "    .dataframe tbody tr th {\n",
       "        vertical-align: top;\n",
       "    }\n",
       "\n",
       "    .dataframe thead th {\n",
       "        text-align: right;\n",
       "    }\n",
       "</style>\n",
       "<table border=\"1\" class=\"dataframe\">\n",
       "  <thead>\n",
       "    <tr style=\"text-align: right;\">\n",
       "      <th></th>\n",
       "      <th>hotel_id</th>\n",
       "      <th>city</th>\n",
       "      <th>distance</th>\n",
       "      <th>stars</th>\n",
       "      <th>rating</th>\n",
       "      <th>country</th>\n",
       "      <th>city_actual</th>\n",
       "      <th>rating_reviewcount</th>\n",
       "      <th>center1label</th>\n",
       "      <th>center2label</th>\n",
       "      <th>...</th>\n",
       "      <th>price</th>\n",
       "      <th>offer</th>\n",
       "      <th>offer_cat</th>\n",
       "      <th>year</th>\n",
       "      <th>month</th>\n",
       "      <th>weekend</th>\n",
       "      <th>holiday</th>\n",
       "      <th>nnights</th>\n",
       "      <th>scarce_room</th>\n",
       "      <th>highly_rated</th>\n",
       "    </tr>\n",
       "  </thead>\n",
       "  <tbody>\n",
       "    <tr>\n",
       "      <th>0</th>\n",
       "      <td>1</td>\n",
       "      <td>Amsterdam</td>\n",
       "      <td>3.1</td>\n",
       "      <td>4.0</td>\n",
       "      <td>4.3</td>\n",
       "      <td>Netherlands</td>\n",
       "      <td>Amsterdam</td>\n",
       "      <td>1030.0</td>\n",
       "      <td>City centre</td>\n",
       "      <td>Montelbaanstoren</td>\n",
       "      <td>...</td>\n",
       "      <td>172</td>\n",
       "      <td>0</td>\n",
       "      <td>0% no offer</td>\n",
       "      <td>2017</td>\n",
       "      <td>11</td>\n",
       "      <td>1</td>\n",
       "      <td>0</td>\n",
       "      <td>1</td>\n",
       "      <td>0</td>\n",
       "      <td>1</td>\n",
       "    </tr>\n",
       "    <tr>\n",
       "      <th>1</th>\n",
       "      <td>1</td>\n",
       "      <td>Amsterdam</td>\n",
       "      <td>3.1</td>\n",
       "      <td>4.0</td>\n",
       "      <td>4.3</td>\n",
       "      <td>Netherlands</td>\n",
       "      <td>Amsterdam</td>\n",
       "      <td>1030.0</td>\n",
       "      <td>City centre</td>\n",
       "      <td>Montelbaanstoren</td>\n",
       "      <td>...</td>\n",
       "      <td>122</td>\n",
       "      <td>1</td>\n",
       "      <td>15-50% offer</td>\n",
       "      <td>2018</td>\n",
       "      <td>1</td>\n",
       "      <td>1</td>\n",
       "      <td>0</td>\n",
       "      <td>1</td>\n",
       "      <td>0</td>\n",
       "      <td>1</td>\n",
       "    </tr>\n",
       "    <tr>\n",
       "      <th>2</th>\n",
       "      <td>1</td>\n",
       "      <td>Amsterdam</td>\n",
       "      <td>3.1</td>\n",
       "      <td>4.0</td>\n",
       "      <td>4.3</td>\n",
       "      <td>Netherlands</td>\n",
       "      <td>Amsterdam</td>\n",
       "      <td>1030.0</td>\n",
       "      <td>City centre</td>\n",
       "      <td>Montelbaanstoren</td>\n",
       "      <td>...</td>\n",
       "      <td>122</td>\n",
       "      <td>1</td>\n",
       "      <td>15-50% offer</td>\n",
       "      <td>2017</td>\n",
       "      <td>12</td>\n",
       "      <td>0</td>\n",
       "      <td>1</td>\n",
       "      <td>1</td>\n",
       "      <td>0</td>\n",
       "      <td>1</td>\n",
       "    </tr>\n",
       "    <tr>\n",
       "      <th>3</th>\n",
       "      <td>1</td>\n",
       "      <td>Amsterdam</td>\n",
       "      <td>3.1</td>\n",
       "      <td>4.0</td>\n",
       "      <td>4.3</td>\n",
       "      <td>Netherlands</td>\n",
       "      <td>Amsterdam</td>\n",
       "      <td>1030.0</td>\n",
       "      <td>City centre</td>\n",
       "      <td>Montelbaanstoren</td>\n",
       "      <td>...</td>\n",
       "      <td>552</td>\n",
       "      <td>1</td>\n",
       "      <td>1-15% offer</td>\n",
       "      <td>2017</td>\n",
       "      <td>12</td>\n",
       "      <td>0</td>\n",
       "      <td>1</td>\n",
       "      <td>4</td>\n",
       "      <td>0</td>\n",
       "      <td>1</td>\n",
       "    </tr>\n",
       "    <tr>\n",
       "      <th>4</th>\n",
       "      <td>1</td>\n",
       "      <td>Amsterdam</td>\n",
       "      <td>3.1</td>\n",
       "      <td>4.0</td>\n",
       "      <td>4.3</td>\n",
       "      <td>Netherlands</td>\n",
       "      <td>Amsterdam</td>\n",
       "      <td>1030.0</td>\n",
       "      <td>City centre</td>\n",
       "      <td>Montelbaanstoren</td>\n",
       "      <td>...</td>\n",
       "      <td>122</td>\n",
       "      <td>1</td>\n",
       "      <td>15-50% offer</td>\n",
       "      <td>2018</td>\n",
       "      <td>2</td>\n",
       "      <td>1</td>\n",
       "      <td>0</td>\n",
       "      <td>1</td>\n",
       "      <td>0</td>\n",
       "      <td>1</td>\n",
       "    </tr>\n",
       "  </tbody>\n",
       "</table>\n",
       "<p>5 rows × 25 columns</p>\n",
       "</div>"
      ],
      "text/plain": [
       "   hotel_id       city  distance  stars  rating      country city_actual  \\\n",
       "0         1  Amsterdam       3.1    4.0     4.3  Netherlands   Amsterdam   \n",
       "1         1  Amsterdam       3.1    4.0     4.3  Netherlands   Amsterdam   \n",
       "2         1  Amsterdam       3.1    4.0     4.3  Netherlands   Amsterdam   \n",
       "3         1  Amsterdam       3.1    4.0     4.3  Netherlands   Amsterdam   \n",
       "4         1  Amsterdam       3.1    4.0     4.3  Netherlands   Amsterdam   \n",
       "\n",
       "   rating_reviewcount center1label      center2label  ... price  offer  \\\n",
       "0              1030.0  City centre  Montelbaanstoren  ...   172      0   \n",
       "1              1030.0  City centre  Montelbaanstoren  ...   122      1   \n",
       "2              1030.0  City centre  Montelbaanstoren  ...   122      1   \n",
       "3              1030.0  City centre  Montelbaanstoren  ...   552      1   \n",
       "4              1030.0  City centre  Montelbaanstoren  ...   122      1   \n",
       "\n",
       "      offer_cat  year month  weekend  holiday nnights  scarce_room  \\\n",
       "0   0% no offer  2017    11        1        0       1            0   \n",
       "1  15-50% offer  2018     1        1        0       1            0   \n",
       "2  15-50% offer  2017    12        0        1       1            0   \n",
       "3   1-15% offer  2017    12        0        1       4            0   \n",
       "4  15-50% offer  2018     2        1        0       1            0   \n",
       "\n",
       "   highly_rated  \n",
       "0             1  \n",
       "1             1  \n",
       "2             1  \n",
       "3             1  \n",
       "4             1  \n",
       "\n",
       "[5 rows x 25 columns]"
      ]
     },
     "execution_count": 13,
     "metadata": {},
     "output_type": "execute_result"
    }
   ],
   "source": [
    "df.head()"
   ]
  },
  {
   "cell_type": "markdown",
   "id": "d343c140",
   "metadata": {},
   "source": [
    "## Linear Probability Model (LPM): `distance and stars`"
   ]
  },
  {
   "cell_type": "code",
   "execution_count": 41,
   "id": "048751b2",
   "metadata": {},
   "outputs": [
    {
     "name": "stdout",
     "output_type": "stream",
     "text": [
      "                            OLS Regression Results                            \n",
      "==============================================================================\n",
      "Dep. Variable:           highly_rated   R-squared:                       0.348\n",
      "Model:                            OLS   Adj. R-squared:                  0.347\n",
      "Method:                 Least Squares   F-statistic:                     1018.\n",
      "Date:                Sun, 03 Dec 2023   Prob (F-statistic):          2.31e-307\n",
      "Time:                        14:59:15   Log-Likelihood:                -1017.0\n",
      "No. Observations:                2045   AIC:                             2040.\n",
      "Df Residuals:                    2042   BIC:                             2057.\n",
      "Df Model:                           2                                         \n",
      "Covariance Type:                  HC1                                         \n",
      "==============================================================================\n",
      "                 coef    std err          z      P>|z|      [0.025      0.975]\n",
      "------------------------------------------------------------------------------\n",
      "const         -0.4371      0.025    -17.147      0.000      -0.487      -0.387\n",
      "distance       0.0273      0.003      7.830      0.000       0.020       0.034\n",
      "stars          0.2876      0.007     43.943      0.000       0.275       0.300\n",
      "==============================================================================\n",
      "Omnibus:                      112.300   Durbin-Watson:                   0.428\n",
      "Prob(Omnibus):                  0.000   Jarque-Bera (JB):               67.241\n",
      "Skew:                          -0.304   Prob(JB):                     2.51e-15\n",
      "Kurtosis:                       2.353   Cond. No.                         16.9\n",
      "==============================================================================\n",
      "\n",
      "Notes:\n",
      "[1] Standard Errors are heteroscedasticity robust (HC1)\n"
     ]
    }
   ],
   "source": [
    "x_vars = sm.add_constant(df[['distance', 'stars']])\n",
    "# Model LPM\n",
    "model = sm.OLS(df['highly_rated'], x_vars)\n",
    "# Fit the model\n",
    "# Have to control for heteroskedasticity with LPM:\n",
    "result1 = model.fit(cov_type = 'HC1')\n",
    "# Print summary\n",
    "print(result1.summary())"
   ]
  },
  {
   "cell_type": "markdown",
   "id": "8e592729",
   "metadata": {},
   "source": [
    "### Analysis:\n",
    "\n",
    "-(constant coefficient) the constant coefficient doesn't seem to have an interpretable meaning here. It is also negative (despite the depedent variable ranging from 0-1 (limitations of LPM)).\n",
    "\n",
    "-(distance coefficient) for one unit increase in distance, hotels are more likely to be highly rated by 2.7 percentage points. p value is 0 (or near 0) meaning `distance` is statistically significant (most likely a relationship between distance and probability of a hotel being highly_rated (having more than 4 stars)).\n",
    "\n",
    "-(stars coefficient) for one unit increase in stars, hotels are more likely to be highly raetd by 28.7 percentage points. p value is 0 (or near 0) meaning `stars` is statistically significant (most likely a relationship between stars and probability of a hotel being highly_rated (having more than 4 stars)).\n"
   ]
  },
  {
   "cell_type": "code",
   "execution_count": 1,
   "id": "3bc6c493",
   "metadata": {},
   "outputs": [],
   "source": [
    "# Limitations of LPM: coefficients can fall out of the range of [0,1] which doesn't make sense for \n",
    "# our dependent variable (as seen with the constant coefficient). This model also assumes linearity which is why it is better to use the logit or probit\n",
    "# models. "
   ]
  },
  {
   "cell_type": "code",
   "execution_count": 14,
   "id": "2350e974",
   "metadata": {},
   "outputs": [
    {
     "data": {
      "image/png": "[encoded data removed]",
      "text/plain": [
       "<Figure size 640x480 with 1 Axes>"
      ]
     },
     "metadata": {},
     "output_type": "display_data"
    }
   ],
   "source": [
    "#Linear Probability Model (LPM) \n",
    "data_distance = lowess(df['highly_rated'], df['distance'])\n",
    "# Plot the smoothed data\n",
    "plt.plot(data_distance[:, 0], data_distance[:, 1], color='red', label='Distance')\n",
    "plt.xlabel('Distance')\n",
    "plt.ylabel('Probability of Hotels being Highly_Rated = 1.0 (100%)')\n",
    "plt.title('LPM: How Distance Relates to Probability of Highly_Related')\n",
    "plt.show()\n",
    "#looks like as distance increases, ratings get higher???"
   ]
  },
  {
   "cell_type": "markdown",
   "id": "ba88d5ac",
   "metadata": {},
   "source": [
    "The line represents an estimate of the relationship between 'distance' and the probability of hotels highly rated. For the most part, the line is increasing, suggesting a positive relationship: as 'distance' increases, the probability of being highly rated also increases."
   ]
  },
  {
   "cell_type": "code",
   "execution_count": 15,
   "id": "4e8a38e6",
   "metadata": {},
   "outputs": [
    {
     "data": {
      "image/png": "[encoded data removed]",
      "text/plain": [
       "<Figure size 640x480 with 1 Axes>"
      ]
     },
     "metadata": {},
     "output_type": "display_data"
    }
   ],
   "source": [
    "#Linear Probability Model (LPM) \n",
    "data_distance = lowess(df['highly_rated'], df['stars'])\n",
    "# Plot the smoothed data\n",
    "plt.plot(data_distance[:, 0], data_distance[:, 1], color='green', label='Distance')\n",
    "plt.xlabel('stars')\n",
    "plt.ylabel('Probability of Hotels being Highly_Rated = 1.0 (100%)')\n",
    "plt.title('LPM: How Stars Relates to Probability of Highly_Related')\n",
    "plt.show()\n",
    "#looks like as stars increase, ratings get higher"
   ]
  },
  {
   "cell_type": "markdown",
   "id": "cec47808",
   "metadata": {},
   "source": [
    "The line represents an estimate of the relationship between 'stars' and the probability of hotels highly rated. For the most part, the line is increasing, suggesting a positive relationship: as 'stars' increases, the probability of being highly rated also increases. However, the line plateaus at 3.5 stars (the probability of hotels being highly rated stays constant from 3.5 stars onward)."
   ]
  },
  {
   "cell_type": "markdown",
   "id": "499170a5",
   "metadata": {},
   "source": [
    "## Logit Regression"
   ]
  },
  {
   "cell_type": "code",
   "execution_count": 45,
   "id": "04f95cce",
   "metadata": {},
   "outputs": [
    {
     "name": "stdout",
     "output_type": "stream",
     "text": [
      "Optimization terminated successfully.\n",
      "         Current function value: 0.472526\n",
      "         Iterations 6\n",
      "                           Logit Regression Results                           \n",
      "==============================================================================\n",
      "Dep. Variable:           highly_rated   No. Observations:                 2045\n",
      "Model:                          Logit   Df Residuals:                     2042\n",
      "Method:                           MLE   Df Model:                            2\n",
      "Date:                Sun, 03 Dec 2023   Pseudo R-squ.:                  0.3038\n",
      "Time:                        14:59:16   Log-Likelihood:                -966.32\n",
      "converged:                       True   LL-Null:                       -1387.9\n",
      "Covariance Type:                  HC1   LLR p-value:                8.069e-184\n",
      "==============================================================================\n",
      "                 coef    std err          z      P>|z|      [0.025      0.975]\n",
      "------------------------------------------------------------------------------\n",
      "const         -5.7932      0.291    -19.910      0.000      -6.363      -5.223\n",
      "distance       0.1466      0.027      5.358      0.000       0.093       0.200\n",
      "stars          1.7697      0.084     21.078      0.000       1.605       1.934\n",
      "==============================================================================\n"
     ]
    }
   ],
   "source": [
    "#Logit Regression Results (table)\n",
    "#x_variable + covariate\n",
    "x_vars = df[['distance', 'stars']]\n",
    "#adding intercept/constant\n",
    "x_vars = sm.add_constant(x_vars)\n",
    "#modeling Logit\n",
    "model = sm.Logit(df['highly_rated'], x_vars)\n",
    "#robust SE \n",
    "result2 = model.fit(cov_type = 'HC1')\n",
    "print(result2.summary())"
   ]
  },
  {
   "cell_type": "markdown",
   "id": "3d9ea6a3",
   "metadata": {},
   "source": [
    "Logit Regression Model coefficients are not very informative as they represent log-odds. We need marginal differences in order to make sense of our model."
   ]
  },
  {
   "cell_type": "code",
   "execution_count": 46,
   "id": "7ac37e16",
   "metadata": {},
   "outputs": [],
   "source": [
    "marginal_effects = result2.get_margeff()"
   ]
  },
  {
   "cell_type": "code",
   "execution_count": 47,
   "id": "695597c4",
   "metadata": {},
   "outputs": [
    {
     "name": "stdout",
     "output_type": "stream",
     "text": [
      "        Logit Marginal Effects       \n",
      "=====================================\n",
      "Dep. Variable:           highly_rated\n",
      "Method:                          dydx\n",
      "At:                           overall\n",
      "==============================================================================\n",
      "                dy/dx    std err          z      P>|z|      [0.025      0.975]\n",
      "------------------------------------------------------------------------------\n",
      "distance       0.0227      0.004      5.657      0.000       0.015       0.031\n",
      "stars          0.2742      0.007     39.702      0.000       0.261       0.288\n",
      "==============================================================================\n"
     ]
    }
   ],
   "source": [
    "# Print marginal effects summary\n",
    "print(marginal_effects.summary())"
   ]
  },
  {
   "cell_type": "markdown",
   "id": "295db8f1",
   "metadata": {},
   "source": [
    "### Analysis:\n",
    "\n",
    "-(distance coefficient) for one unit increase in distance, hotels are more likely to be highly rated by 2.27 percentage points. p value is 0 (or near 0) meaning `distance` is statistically significant (most likely a relationship between distance and probability of a hotel being highly_rated (having more than 4 stars)).\n",
    "\n",
    "-(stars coefficient) for one unit increase in stars, hotels are more likely to be highly raetd by 27.42 percentage points. p value is 0 (or near 0) meaning `stars` is statistically significant (most likely a relationship between stars and probability of a hotel being highly_rated (having more than 4 stars))."
   ]
  },
  {
   "cell_type": "code",
   "execution_count": 48,
   "id": "47503a69",
   "metadata": {},
   "outputs": [
    {
     "data": {
      "text/plain": [
       "0.5848410757946211"
      ]
     },
     "execution_count": 48,
     "metadata": {},
     "output_type": "execute_result"
    }
   ],
   "source": [
    "predicted_probabilities2 = result2.predict(x_vars)\n",
    "predicted_probabilities2.mean()\n",
    "#predicted probability is around 0.5 = it indicates uncertainty or ambiguity in predicting the outcome."
   ]
  },
  {
   "cell_type": "markdown",
   "id": "0b2651d5",
   "metadata": {},
   "source": [
    "## Probit Regression"
   ]
  },
  {
   "cell_type": "code",
   "execution_count": 49,
   "id": "a1296430",
   "metadata": {},
   "outputs": [
    {
     "name": "stdout",
     "output_type": "stream",
     "text": [
      "Optimization terminated successfully.\n",
      "         Current function value: 0.473366\n",
      "         Iterations 6\n",
      "                          Probit Regression Results                           \n",
      "==============================================================================\n",
      "Dep. Variable:           highly_rated   No. Observations:                 2045\n",
      "Model:                         Probit   Df Residuals:                     2042\n",
      "Method:                           MLE   Df Model:                            2\n",
      "Date:                Sun, 03 Dec 2023   Pseudo R-squ.:                  0.3025\n",
      "Time:                        14:59:17   Log-Likelihood:                -968.03\n",
      "converged:                       True   LL-Null:                       -1387.9\n",
      "Covariance Type:                  HC1   LLR p-value:                4.501e-183\n",
      "==============================================================================\n",
      "                 coef    std err          z      P>|z|      [0.025      0.975]\n",
      "------------------------------------------------------------------------------\n",
      "const         -3.3423      0.158    -21.117      0.000      -3.652      -3.032\n",
      "distance       0.0788      0.015      5.230      0.000       0.049       0.108\n",
      "stars          1.0262      0.045     22.599      0.000       0.937       1.115\n",
      "==============================================================================\n"
     ]
    }
   ],
   "source": [
    "#Probit\n",
    "#x_variable + covariate\n",
    "x_vars = df[['distance', 'stars']]\n",
    "#adding intercept/constant\n",
    "x_vars = sm.add_constant(x_vars)\n",
    "#modeling Logit\n",
    "model = sm.Probit(df['highly_rated'], x_vars)\n",
    "#robust SE \n",
    "result3 = model.fit(cov_type = 'HC1')\n",
    "print(result3.summary())"
   ]
  },
  {
   "cell_type": "code",
   "execution_count": 50,
   "id": "027dda8b",
   "metadata": {},
   "outputs": [],
   "source": [
    "marginal_effects = result3.get_margeff()"
   ]
  },
  {
   "cell_type": "code",
   "execution_count": 51,
   "id": "6bfadfd8",
   "metadata": {},
   "outputs": [
    {
     "name": "stdout",
     "output_type": "stream",
     "text": [
      "       Probit Marginal Effects       \n",
      "=====================================\n",
      "Dep. Variable:           highly_rated\n",
      "Method:                          dydx\n",
      "At:                           overall\n",
      "==============================================================================\n",
      "                dy/dx    std err          z      P>|z|      [0.025      0.975]\n",
      "------------------------------------------------------------------------------\n",
      "distance       0.0211      0.004      5.425      0.000       0.013       0.029\n",
      "stars          0.2742      0.007     40.272      0.000       0.261       0.288\n",
      "==============================================================================\n"
     ]
    }
   ],
   "source": [
    "# Print marginal effects summary\n",
    "print(marginal_effects.summary())"
   ]
  },
  {
   "cell_type": "markdown",
   "id": "c9971ba7",
   "metadata": {},
   "source": [
    "### Analysis:\n",
    "\n",
    "-(distance coefficient) for one unit increase in distance, hotels are more likely to be highly rated by 2.11 percentage points. p value is 0 (or near 0) meaning `distance` is statistically significant (most likely a relationship between distance and probability of a hotel being highly_rated (having more than 4 stars)).\n",
    "\n",
    "-(stars coefficient) for one unit increase in stars, hotels are more likely to be highly raetd by 27.42 percentage points. p value is 0 (or near 0) meaning `stars` is statistically significant (most likely a relationship between stars and probability of a hotel being highly_rated (having more than 4 stars)).\n"
   ]
  },
  {
   "cell_type": "code",
   "execution_count": 52,
   "id": "3f356598",
   "metadata": {},
   "outputs": [
    {
     "data": {
      "text/plain": [
       "0.5849936475709"
      ]
     },
     "execution_count": 52,
     "metadata": {},
     "output_type": "execute_result"
    }
   ],
   "source": [
    "predicted_probabilities3 = result3.predict(x_vars)\n",
    "predicted_probabilities3.mean()\n",
    "#predicted probability is around 0.5 = it indicates uncertainty or ambiguity in predicting the outcome."
   ]
  },
  {
   "cell_type": "markdown",
   "id": "c7ad01c5",
   "metadata": {},
   "source": [
    "### Fit of Predicted Probabilities"
   ]
  },
  {
   "cell_type": "code",
   "execution_count": 53,
   "id": "0d32b4d2",
   "metadata": {},
   "outputs": [],
   "source": [
    "df[\"pred_lpm\"] = result1.predict()\n",
    "df[\"pred_logit\"] = result2.predict()\n",
    "df[\"pred_probit\"] = result3.predict()"
   ]
  },
  {
   "cell_type": "code",
   "execution_count": 54,
   "id": "939f6c2f",
   "metadata": {},
   "outputs": [
    {
     "data": {
      "text/html": [
       "<div>\n",
       "<style scoped>\n",
       "    .dataframe tbody tr th:only-of-type {\n",
       "        vertical-align: middle;\n",
       "    }\n",
       "\n",
       "    .dataframe tbody tr th {\n",
       "        vertical-align: top;\n",
       "    }\n",
       "\n",
       "    .dataframe thead th {\n",
       "        text-align: right;\n",
       "    }\n",
       "</style>\n",
       "<table border=\"1\" class=\"dataframe\">\n",
       "  <thead>\n",
       "    <tr style=\"text-align: right;\">\n",
       "      <th></th>\n",
       "      <th>LPM</th>\n",
       "      <th>Logit</th>\n",
       "      <th>Probit</th>\n",
       "    </tr>\n",
       "  </thead>\n",
       "  <tbody>\n",
       "    <tr>\n",
       "      <th>R-squared</th>\n",
       "      <td>0.348</td>\n",
       "      <td>0.367</td>\n",
       "      <td>0.365</td>\n",
       "    </tr>\n",
       "    <tr>\n",
       "      <th>Brier-score</th>\n",
       "      <td>0.158</td>\n",
       "      <td>0.154</td>\n",
       "      <td>0.154</td>\n",
       "    </tr>\n",
       "  </tbody>\n",
       "</table>\n",
       "</div>"
      ],
      "text/plain": [
       "               LPM  Logit  Probit\n",
       "R-squared    0.348  0.367   0.365\n",
       "Brier-score  0.158  0.154   0.154"
      ]
     },
     "execution_count": 54,
     "metadata": {},
     "output_type": "execute_result"
    }
   ],
   "source": [
    "#Fit of predicted probabilities:\n",
    "pd.DataFrame(\n",
    "    {\n",
    "        \"R-squared\": [\n",
    "            result1.rsquared,\n",
    "            r2_score(df[\"highly_rated\"], df[\"pred_logit\"]),\n",
    "            r2_score(df[\"highly_rated\"], df[\"pred_probit\"]),\n",
    "        ],\n",
    "        \"Brier-score\": [\n",
    "            mean_squared_error(df[\"highly_rated\"], df[\"pred_lpm\"]),\n",
    "            mean_squared_error(df[\"highly_rated\"], df[\"pred_logit\"]),\n",
    "            mean_squared_error(df[\"highly_rated\"], df[\"pred_probit\"]),\n",
    "        ],}, index=[\"LPM\", \"Logit\", \"Probit\"],).T.round(3)\n"
   ]
  },
  {
   "cell_type": "markdown",
   "id": "08f1f6dc",
   "metadata": {},
   "source": [
    "Logit model to predict probability of being highly rated has the best fit (highest R-squared/low Brier-score)"
   ]
  },
  {
   "cell_type": "markdown",
   "id": "fc9e82a6",
   "metadata": {},
   "source": [
    "### Summary:\n",
    "\n",
    "Distance from city center and Stars seem to both have a positive relationship with hotels being highly rated. This was expected from stars, but not from distance. However, both variables are statistically significant and therefore we can assume the relatinship is meaningful. "
   ]
  }
 ],
 "metadata": {
  "kernelspec": {
   "display_name": "Python 3 (ipykernel)",
   "language": "python",
   "name": "python3"
  },
  "language_info": {
   "codemirror_mode": {
    "name": "ipython",
    "version": 3
   },
   "file_extension": ".py",
   "mimetype": "text/x-python",
   "name": "python",
   "nbconvert_exporter": "python",
   "pygments_lexer": "ipython3",
   "version": "3.11.5"
  }
 },
 "nbformat": 4,
 "nbformat_minor": 5
}
